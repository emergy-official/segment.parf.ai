{
 "cells": [
  {
   "cell_type": "code",
   "execution_count": 8,
   "metadata": {},
   "outputs": [],
   "source": [
    "import os\n",
    "import joblib\n",
    "import io  \n",
    "import base64  \n",
    "import json\n",
    "# Import necessary libraries  \n",
    "import tensorflow as tf\n",
    "from tensorflow.keras import backend as K  \n",
    "import cv2\n",
    "import numpy as np\n",
    "from PIL import Image\n",
    "import matplotlib.pyplot as plt"
   ]
  },
  {
   "cell_type": "code",
   "execution_count": 5,
   "metadata": {},
   "outputs": [],
   "source": [
    "model = tf.keras.models.load_model(\"model.keras\", custom_objects={'dice_coef': dice_coef, 'iou': iou})"
   ]
  },
  {
   "cell_type": "code",
   "execution_count": 21,
   "metadata": {},
   "outputs": [],
   "source": [
    "def dice_coef(y_true, y_pred, smooth=1e-6):  \n",
    "    y_true_f = K.flatten(y_true)  \n",
    "    y_pred_f = K.flatten(y_pred)  \n",
    "    intersection = K.sum(y_true_f * y_pred_f)  \n",
    "    return (2. * intersection + smooth) / (K.sum(y_true_f) + K.sum(y_pred_f) + smooth)  \n",
    "  \n",
    "def iou(y_true, y_pred, smooth=1e-6):  \n",
    "    intersection = K.sum(K.abs(y_true * y_pred), axis=[1,2,3])  \n",
    "    union = K.sum(y_true,[1,2,3]) + K.sum(y_pred,[1,2,3]) - intersection  \n",
    "    return K.mean((intersection + smooth) / (union + smooth), axis=0)  \n",
    "\n",
    "def read_image(img_path):  \n",
    "    x = cv2.imread(img_path, cv2.IMREAD_COLOR)  \n",
    "    x = cv2.resize(x, (512, 256))  \n",
    "    x = x/255.0  \n",
    "    x = x.astype(np.float32)  \n",
    "    x = cv2.cvtColor(x, cv2.COLOR_BGR2RGB)\n",
    "    return x  \n",
    "\n",
    "\n",
    "def model_inference_with_display(model, base64_image):  \n",
    "    # Load and preprocess the image  \n",
    "    image = read_image(base64_image)  \n",
    "    image_to_predict = np.expand_dims(image, axis=0)\n",
    "    \n",
    "    prediction = model.predict(image_to_predict)  \n",
    "    predicted_mask = tf.argmax(prediction, axis=-1)[0].numpy()  # Ensure it's a numpy array  \n",
    "    predicted_mask_normalized = predicted_mask.astype('float32') / predicted_mask.max()  \n",
    "    colored_mask = plt.get_cmap('viridis')(predicted_mask_normalized)[:, :, :3]  # Exclude alpha channel  \n",
    "    colored_mask = (colored_mask * 255).astype(np.uint8)  # Convert back to 8-bit format  \n",
    "  \n",
    "   # Convert numpy array back to PIL image  \n",
    "    mask_image = Image.fromarray(colored_mask)  \n",
    "      \n",
    "    # Convert the PIL Image to a bytes object in PNG format  \n",
    "    buffered = io.BytesIO()  \n",
    "    mask_image.save(buffered, format=\"PNG\")  \n",
    "    image_png_bytes = buffered.getvalue()  \n",
    "      \n",
    "    # Encode bytes to base64 string  \n",
    "    base64_image = base64.b64encode(image_png_bytes).decode(\"utf-8\")\n",
    "    \n",
    "     # Initialize a dictionary to hold polygons for each label  \n",
    "    labels_polygons = {  \n",
    "        'void': [],   \n",
    "        'flat': [],            \n",
    "        'construction': [],    \n",
    "        'object': [],         \n",
    "        'nature': [],         \n",
    "        'sky': [],         \n",
    "        'human': [],            \n",
    "        'vehicle': []          \n",
    "    }\n",
    "    \n",
    "    for label, value in labels_polygons.items():  \n",
    "        label_index = list(labels_polygons.keys()).index(label)  # Get the index of the label  \n",
    "        mask = (predicted_mask == label_index).astype(np.uint8) * 255  # Create a mask for current label  \n",
    "          \n",
    "        # Find contours  \n",
    "        contours, _ = cv2.findContours(mask, cv2.RETR_EXTERNAL, cv2.CHAIN_APPROX_NONE)  \n",
    "          \n",
    "        for contour in contours:  \n",
    "            approx = contour.flatten().tolist()  # Without approximation  \n",
    "            labels_polygons[label].append(approx)  \n",
    "      \n",
    "    # Convert the dictionary to a JSON object  \n",
    "    polygons_json = json.dumps(labels_polygons) \n",
    "    return polygons_json\n",
    "    # return base64_image"
   ]
  },
  {
   "cell_type": "code",
   "execution_count": 22,
   "metadata": {},
   "outputs": [],
   "source": [
    "def save_polygons_to_img(polygons_json, filename):  \n",
    "    # Convert JSON string back to dictionary  \n",
    "    polygons = json.loads(polygons_json)  \n",
    "      \n",
    "    # Initialize a black canvas/image  \n",
    "    # Adjust `shape` based on the expected output size  \n",
    "    shape = (256, 512, 3)  # Example shape, should match your actual image size  \n",
    "    image = np.zeros(shape, dtype=np.uint8)  \n",
    "      \n",
    "    # Assign each label a unique color using viridis colormap  \n",
    "    n_labels = len(polygons)  \n",
    "    viridis = plt.get_cmap('viridis', n_labels)  # Get n_labels distinct colors from viridis  \n",
    "      \n",
    "    for i, (label, contours) in enumerate(polygons.items()):  \n",
    "        color = viridis(i)[:3]  # Exclude alpha channel  \n",
    "        color = tuple(int(c * 255) for c in color[::-1])  # Convert to BGR and scale to 0-255  \n",
    "          \n",
    "        for contour in contours:  \n",
    "            contour = np.array(contour).reshape((-1, 1, 2)).astype(np.int32)  # Reshape and convert to needed format  \n",
    "            cv2.fillPoly(image, [contour], color)  \n",
    "      \n",
    "    # Save the image  \n",
    "    cv2.imwrite(filename, image)  "
   ]
  },
  {
   "cell_type": "code",
   "execution_count": 23,
   "metadata": {},
   "outputs": [
    {
     "name": "stdout",
     "output_type": "stream",
     "text": [
      "1/1 [==============================] - 3s 3s/step\n",
      "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\n"
     ]
    }
   ],
   "source": [
    "polygons = model_inference_with_display(model, \"test.png\")\n",
    "save_polygons_to_img(polygons,\"mask.png\")"
   ]
  }
 ],
 "metadata": {
  "kernelspec": {
   "display_name": "Python 3",
   "language": "python",
   "name": "python3"
  },
  "language_info": {
   "codemirror_mode": {
    "name": "ipython",
    "version": 3
   },
   "file_extension": ".py",
   "mimetype": "text/x-python",
   "name": "python",
   "nbconvert_exporter": "python",
   "pygments_lexer": "ipython3",
   "version": "3.11.7"
  }
 },
 "nbformat": 4,
 "nbformat_minor": 2
}
