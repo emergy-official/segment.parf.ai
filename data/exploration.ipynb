{
 "cells": [
  {
   "cell_type": "code",
   "execution_count": 3,
   "metadata": {},
   "outputs": [],
   "source": [
    "import json  \n",
    "import pandas as pd\n",
    "import glob  \n"
   ]
  },
  {
   "cell_type": "code",
   "execution_count": 10,
   "metadata": {},
   "outputs": [],
   "source": [
    "def convert_dynamodb_json(json_line):  \n",
    "    regular_json = {}  \n",
    "    for key, item in json_line['Item'].items():  \n",
    "        data_value = item.get('S') or item.get('N')  # Adjust based on your data types  \n",
    "        regular_json[key] = data_value  \n",
    "    return regular_json "
   ]
  },
  {
   "cell_type": "code",
   "execution_count": 7,
   "metadata": {},
   "outputs": [
    {
     "data": {
      "text/plain": [
       "['input/uqgwzwrbaa2jtogofc4zf2tqga.json',\n",
       " 'input/en3uccmmhe7khbroaratl7siru.json',\n",
       " 'input/mvoswag4ye7mrlb567rdflhcnq.json',\n",
       " 'input/5g3emyzh5u6dxcu3nubkfwokv4.json']"
      ]
     },
     "execution_count": 7,
     "metadata": {},
     "output_type": "execute_result"
    }
   ],
   "source": [
    "json_files = glob.glob(\"input/*.json\")\n",
    "json_files"
   ]
  },
  {
   "cell_type": "code",
   "execution_count": 11,
   "metadata": {},
   "outputs": [],
   "source": [
    "# Initialize an empty DataFrame  \n",
    "dfs = []\n",
    "  \n",
    "for file_path in json_files:  \n",
    "    temp_list = []  # Temporarily store the dictionaries before creating a DataFrame  \n",
    "    with open(file_path, 'r') as f:  \n",
    "        for line in f:  \n",
    "            # Parse the JSON line and convert if needed  \n",
    "            json_line = json.loads(line)  \n",
    "            regular_json_line = convert_dynamodb_json(json_line)  \n",
    "            temp_list.append(regular_json_line)  \n",
    "    # Create a DataFrame from the list of dictionaries and append to dfs list  \n",
    "    df = pd.DataFrame(temp_list)  \n",
    "    dfs.append(df)\n",
    "\n",
    "combined_df = pd.concat(dfs, ignore_index=True)  "
   ]
  },
  {
   "cell_type": "code",
   "execution_count": 12,
   "metadata": {},
   "outputs": [
    {
     "data": {
      "text/html": [
       "<div>\n",
       "<style scoped>\n",
       "    .dataframe tbody tr th:only-of-type {\n",
       "        vertical-align: middle;\n",
       "    }\n",
       "\n",
       "    .dataframe tbody tr th {\n",
       "        vertical-align: top;\n",
       "    }\n",
       "\n",
       "    .dataframe thead th {\n",
       "        text-align: right;\n",
       "    }\n",
       "</style>\n",
       "<table border=\"1\" class=\"dataframe\">\n",
       "  <thead>\n",
       "    <tr style=\"text-align: right;\">\n",
       "      <th></th>\n",
       "      <th>link</th>\n",
       "      <th>content</th>\n",
       "      <th>encodedSnippet</th>\n",
       "      <th>contentSnippet</th>\n",
       "      <th>guid</th>\n",
       "      <th>isoDate</th>\n",
       "      <th>pubDate</th>\n",
       "      <th>title</th>\n",
       "    </tr>\n",
       "  </thead>\n",
       "  <tbody>\n",
       "    <tr>\n",
       "      <th>0</th>\n",
       "      <td>https://www.upwork.com/jobs/Customer-Satisfact...</td>\n",
       "      <td>Writing the proposal &lt;br /&gt;\\nDrafting / Rewrit...</td>\n",
       "      <td>Writing the proposal &lt;br /&gt;\\nDrafting / Rewrit...</td>\n",
       "      <td>Writing the proposal \\nHourly Range: $10.00-$5...</td>\n",
       "      <td>https://www.upwork.com/jobs/Customer-Satisfact...</td>\n",
       "      <td>2024-01-26T20:13:34.000Z</td>\n",
       "      <td>Fri, 26 Jan 2024 20:13:34 +0000</td>\n",
       "      <td>Customer Satisfaction Survey  - Upwork</td>\n",
       "    </tr>\n",
       "    <tr>\n",
       "      <th>1</th>\n",
       "      <td>https://www.upwork.com/jobs/New-website-design...</td>\n",
       "      <td>I need someone to help design/develop a simple...</td>\n",
       "      <td>I need someone to help design/develop a simple...</td>\n",
       "      <td>I need someone to help design/develop a simple...</td>\n",
       "      <td>https://www.upwork.com/jobs/New-website-design...</td>\n",
       "      <td>2024-03-04T22:00:37.000Z</td>\n",
       "      <td>Mon, 04 Mar 2024 22:00:37 +0000</td>\n",
       "      <td>New website design, setup, launch - Upwork</td>\n",
       "    </tr>\n",
       "    <tr>\n",
       "      <th>2</th>\n",
       "      <td>https://www.upwork.com/jobs/Converting-Publish...</td>\n",
       "      <td>I have a children&amp;#039;s picture book, of 40 p...</td>\n",
       "      <td>I have a children&amp;#039;s picture book, of 40 p...</td>\n",
       "      <td>I have a children's picture book, of 40 pages ...</td>\n",
       "      <td>https://www.upwork.com/jobs/Converting-Publish...</td>\n",
       "      <td>2024-02-24T01:04:05.000Z</td>\n",
       "      <td>Sat, 24 Feb 2024 01:04:05 +0000</td>\n",
       "      <td>Converting A Published Children's Picture Book...</td>\n",
       "    </tr>\n",
       "    <tr>\n",
       "      <th>3</th>\n",
       "      <td>https://www.upwork.com/jobs/Google-Knowledge-P...</td>\n",
       "      <td>We are seeking a Google Knowledge Panel Specia...</td>\n",
       "      <td>We are seeking a Google Knowledge Panel Specia...</td>\n",
       "      <td>We are seeking a Google Knowledge Panel Specia...</td>\n",
       "      <td>https://www.upwork.com/jobs/Google-Knowledge-P...</td>\n",
       "      <td>2023-12-17T14:23:23.000Z</td>\n",
       "      <td>Sun, 17 Dec 2023 14:23:23 +0000</td>\n",
       "      <td>Google Knowledge Panel Specialist - Upwork</td>\n",
       "    </tr>\n",
       "    <tr>\n",
       "      <th>4</th>\n",
       "      <td>https://www.upwork.com/jobs/tips-for-nailgun_%...</td>\n",
       "      <td>I need some tips for nailgun&lt;br /&gt;\\nI need 2 d...</td>\n",
       "      <td>I need some tips for nailgun&lt;br /&gt;\\nI need 2 d...</td>\n",
       "      <td>I need some tips for nailgun\\n\\nPosted On: Jan...</td>\n",
       "      <td>https://www.upwork.com/jobs/tips-for-nailgun_%...</td>\n",
       "      <td>2024-01-13T17:24:39.000Z</td>\n",
       "      <td>Sat, 13 Jan 2024 17:24:39 +0000</td>\n",
       "      <td>3D tips for nailgun - Upwork</td>\n",
       "    </tr>\n",
       "  </tbody>\n",
       "</table>\n",
       "</div>"
      ],
      "text/plain": [
       "                                                link  \\\n",
       "0  https://www.upwork.com/jobs/Customer-Satisfact...   \n",
       "1  https://www.upwork.com/jobs/New-website-design...   \n",
       "2  https://www.upwork.com/jobs/Converting-Publish...   \n",
       "3  https://www.upwork.com/jobs/Google-Knowledge-P...   \n",
       "4  https://www.upwork.com/jobs/tips-for-nailgun_%...   \n",
       "\n",
       "                                             content  \\\n",
       "0  Writing the proposal <br />\\nDrafting / Rewrit...   \n",
       "1  I need someone to help design/develop a simple...   \n",
       "2  I have a children&#039;s picture book, of 40 p...   \n",
       "3  We are seeking a Google Knowledge Panel Specia...   \n",
       "4  I need some tips for nailgun<br />\\nI need 2 d...   \n",
       "\n",
       "                                      encodedSnippet  \\\n",
       "0  Writing the proposal <br />\\nDrafting / Rewrit...   \n",
       "1  I need someone to help design/develop a simple...   \n",
       "2  I have a children&#039;s picture book, of 40 p...   \n",
       "3  We are seeking a Google Knowledge Panel Specia...   \n",
       "4  I need some tips for nailgun<br />\\nI need 2 d...   \n",
       "\n",
       "                                      contentSnippet  \\\n",
       "0  Writing the proposal \\nHourly Range: $10.00-$5...   \n",
       "1  I need someone to help design/develop a simple...   \n",
       "2  I have a children's picture book, of 40 pages ...   \n",
       "3  We are seeking a Google Knowledge Panel Specia...   \n",
       "4  I need some tips for nailgun\\n\\nPosted On: Jan...   \n",
       "\n",
       "                                                guid  \\\n",
       "0  https://www.upwork.com/jobs/Customer-Satisfact...   \n",
       "1  https://www.upwork.com/jobs/New-website-design...   \n",
       "2  https://www.upwork.com/jobs/Converting-Publish...   \n",
       "3  https://www.upwork.com/jobs/Google-Knowledge-P...   \n",
       "4  https://www.upwork.com/jobs/tips-for-nailgun_%...   \n",
       "\n",
       "                    isoDate                          pubDate  \\\n",
       "0  2024-01-26T20:13:34.000Z  Fri, 26 Jan 2024 20:13:34 +0000   \n",
       "1  2024-03-04T22:00:37.000Z  Mon, 04 Mar 2024 22:00:37 +0000   \n",
       "2  2024-02-24T01:04:05.000Z  Sat, 24 Feb 2024 01:04:05 +0000   \n",
       "3  2023-12-17T14:23:23.000Z  Sun, 17 Dec 2023 14:23:23 +0000   \n",
       "4  2024-01-13T17:24:39.000Z  Sat, 13 Jan 2024 17:24:39 +0000   \n",
       "\n",
       "                                               title  \n",
       "0             Customer Satisfaction Survey  - Upwork  \n",
       "1         New website design, setup, launch - Upwork  \n",
       "2  Converting A Published Children's Picture Book...  \n",
       "3         Google Knowledge Panel Specialist - Upwork  \n",
       "4                       3D tips for nailgun - Upwork  "
      ]
     },
     "execution_count": 12,
     "metadata": {},
     "output_type": "execute_result"
    }
   ],
   "source": [
    "combined_df.head()"
   ]
  },
  {
   "cell_type": "code",
   "execution_count": null,
   "metadata": {},
   "outputs": [],
   "source": []
  }
 ],
 "metadata": {
  "kernelspec": {
   "display_name": "Python 3",
   "language": "python",
   "name": "python3"
  },
  "language_info": {
   "codemirror_mode": {
    "name": "ipython",
    "version": 3
   },
   "file_extension": ".py",
   "mimetype": "text/x-python",
   "name": "python",
   "nbconvert_exporter": "python",
   "pygments_lexer": "ipython3",
   "version": "3.11.7"
  }
 },
 "nbformat": 4,
 "nbformat_minor": 2
}
